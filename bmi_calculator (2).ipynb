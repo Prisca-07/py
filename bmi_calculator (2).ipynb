{
 "cells": [
  {
   "cell_type": "code",
   "execution_count": null,
   "id": "003e78e8-6730-45bf-99a1-106c9ca9473a",
   "metadata": {},
   "outputs": [],
   "source": [
    "Name = input (\"My name is\")\n",
    "Weight = int(input(\"I weigh\"))\n",
    "Height = int(input(\"My height is\"))\n",
    "BMI = (Weight * 703) / (Height **2)\n",
    "print('My BMI is', BMI)\n",
    "if BMI<=18.5:\n",
    "        print('This is considered as Underweight')\n",
    "elif (BMI<=24.9):\n",
    "        print('This is considered as Normal weight')\n",
    "elif (BMI<=29.9):\n",
    "        print('This is considered as Over weight')\n",
    "elif (BMI<=34.9):\n",
    "        print('This is considered as Obese')\n",
    "elif (BMI<=39.9):\n",
    "        print('This is considered as Severely obese')\n",
    "else:\n",
    "        print('This is considered as Morbidly obese')\n",
    "        "
   ]
  },
  {
   "cell_type": "code",
   "execution_count": null,
   "id": "43e972e6-36fb-4733-bc73-6b2204629736",
   "metadata": {},
   "outputs": [],
   "source": []
  }
 ],
 "metadata": {
  "kernelspec": {
   "display_name": "Python 3 (ipykernel)",
   "language": "python",
   "name": "python3"
  },
  "language_info": {
   "codemirror_mode": {
    "name": "ipython",
    "version": 3
   },
   "file_extension": ".py",
   "mimetype": "text/x-python",
   "name": "python",
   "nbconvert_exporter": "python",
   "pygments_lexer": "ipython3",
   "version": "3.12.4"
  }
 },
 "nbformat": 4,
 "nbformat_minor": 5
}
